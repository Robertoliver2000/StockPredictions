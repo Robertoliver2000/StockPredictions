{
 "cells": [
  {
   "cell_type": "code",
   "execution_count": 1,
   "id": "3629f428-8df6-4381-a72d-1db53a26ad86",
   "metadata": {},
   "outputs": [],
   "source": [
    "import pandas as pd"
   ]
  },
  {
   "cell_type": "code",
   "execution_count": 4,
   "id": "6c423f2a-2071-401e-9ba5-4d3de1eab1f1",
   "metadata": {},
   "outputs": [],
   "source": [
    "goog=pd.read_csv('GOOG_data.csv')"
   ]
  },
  {
   "cell_type": "code",
   "execution_count": 7,
   "id": "3b6cd0f8-4291-4585-8adb-6704ef57f579",
   "metadata": {},
   "outputs": [],
   "source": [
    "goog=goog.drop(columns = ['High','Low','Open','Volume','Adj Close', 'Name'])"
   ]
  },
  {
   "cell_type": "code",
   "execution_count": 8,
   "id": "145013fc-40fb-4641-9f48-268deb38d68b",
   "metadata": {},
   "outputs": [
    {
     "data": {
      "text/html": [
       "<div>\n",
       "<style scoped>\n",
       "    .dataframe tbody tr th:only-of-type {\n",
       "        vertical-align: middle;\n",
       "    }\n",
       "\n",
       "    .dataframe tbody tr th {\n",
       "        vertical-align: top;\n",
       "    }\n",
       "\n",
       "    .dataframe thead th {\n",
       "        text-align: right;\n",
       "    }\n",
       "</style>\n",
       "<table border=\"1\" class=\"dataframe\">\n",
       "  <thead>\n",
       "    <tr style=\"text-align: right;\">\n",
       "      <th></th>\n",
       "      <th>Date</th>\n",
       "      <th>Close</th>\n",
       "    </tr>\n",
       "  </thead>\n",
       "  <tbody>\n",
       "    <tr>\n",
       "      <th>0</th>\n",
       "      <td>2016-08-02</td>\n",
       "      <td>771.070007</td>\n",
       "    </tr>\n",
       "    <tr>\n",
       "      <th>1</th>\n",
       "      <td>2016-08-03</td>\n",
       "      <td>773.179993</td>\n",
       "    </tr>\n",
       "    <tr>\n",
       "      <th>2</th>\n",
       "      <td>2016-08-04</td>\n",
       "      <td>771.609985</td>\n",
       "    </tr>\n",
       "    <tr>\n",
       "      <th>3</th>\n",
       "      <td>2016-08-05</td>\n",
       "      <td>782.219971</td>\n",
       "    </tr>\n",
       "    <tr>\n",
       "      <th>4</th>\n",
       "      <td>2016-08-08</td>\n",
       "      <td>781.760010</td>\n",
       "    </tr>\n",
       "    <tr>\n",
       "      <th>...</th>\n",
       "      <td>...</td>\n",
       "      <td>...</td>\n",
       "    </tr>\n",
       "    <tr>\n",
       "      <th>1254</th>\n",
       "      <td>2021-07-27</td>\n",
       "      <td>2735.929932</td>\n",
       "    </tr>\n",
       "    <tr>\n",
       "      <th>1255</th>\n",
       "      <td>2021-07-28</td>\n",
       "      <td>2727.629883</td>\n",
       "    </tr>\n",
       "    <tr>\n",
       "      <th>1256</th>\n",
       "      <td>2021-07-29</td>\n",
       "      <td>2730.810059</td>\n",
       "    </tr>\n",
       "    <tr>\n",
       "      <th>1257</th>\n",
       "      <td>2021-07-30</td>\n",
       "      <td>2704.419922</td>\n",
       "    </tr>\n",
       "    <tr>\n",
       "      <th>1258</th>\n",
       "      <td>2021-08-02</td>\n",
       "      <td>2713.239990</td>\n",
       "    </tr>\n",
       "  </tbody>\n",
       "</table>\n",
       "<p>1259 rows × 2 columns</p>\n",
       "</div>"
      ],
      "text/plain": [
       "            Date        Close\n",
       "0     2016-08-02   771.070007\n",
       "1     2016-08-03   773.179993\n",
       "2     2016-08-04   771.609985\n",
       "3     2016-08-05   782.219971\n",
       "4     2016-08-08   781.760010\n",
       "...          ...          ...\n",
       "1254  2021-07-27  2735.929932\n",
       "1255  2021-07-28  2727.629883\n",
       "1256  2021-07-29  2730.810059\n",
       "1257  2021-07-30  2704.419922\n",
       "1258  2021-08-02  2713.239990\n",
       "\n",
       "[1259 rows x 2 columns]"
      ]
     },
     "execution_count": 8,
     "metadata": {},
     "output_type": "execute_result"
    }
   ],
   "source": [
    "goog"
   ]
  },
  {
   "cell_type": "code",
   "execution_count": null,
   "id": "50c52e20-1b5b-4f67-bdaf-932e46643c48",
   "metadata": {},
   "outputs": [],
   "source": []
  }
 ],
 "metadata": {
  "kernelspec": {
   "display_name": "Python 3",
   "language": "python",
   "name": "python3"
  },
  "language_info": {
   "codemirror_mode": {
    "name": "ipython",
    "version": 3
   },
   "file_extension": ".py",
   "mimetype": "text/x-python",
   "name": "python",
   "nbconvert_exporter": "python",
   "pygments_lexer": "ipython3",
   "version": "3.8.8"
  }
 },
 "nbformat": 4,
 "nbformat_minor": 5
}
