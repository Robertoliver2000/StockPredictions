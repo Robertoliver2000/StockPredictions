{
 "cells": [
  {
   "cell_type": "code",
   "execution_count": 1,
   "id": "e0c57769",
   "metadata": {},
   "outputs": [
    {
     "name": "stdout",
     "output_type": "stream",
     "text": [
      "^IXIC\n",
      "getSandP_threaded.py\n",
      "The threaded script took 0 minutes and 1 seconds to run.\n"
     ]
    }
   ],
   "source": [
    "from datetime import datetime\n",
    "from concurrent import futures\n",
    "import pandas as pd\n",
    "from pandas import DataFrame\n",
    "import pandas_datareader.data as web\n",
    "def download_stock(stock):\n",
    "\t\"\"\" try to query the iex for a stock, if failed note with print \"\"\"\n",
    "\ttry:\n",
    "\t\tprint(stock)\n",
    "\t\tstock_df = web.DataReader(stock,'yahoo', start_time, now_time)\n",
    "\t\tstock_df['Name'] = stock\n",
    "\t\toutput_name = stock + '_data.csv'\n",
    "\t\tstock_df.to_csv(output_name)\n",
    "\texcept:\n",
    "\t\tbad_names.append(stock)\n",
    "\t\tprint('bad: %s' % (stock))\n",
    "if __name__ == '__main__':\n",
    "\t\"\"\" set the download window \"\"\"\n",
    "\tnow_time = datetime.now()\n",
    "\tstart_time = datetime(now_time.year - 5, now_time.month , now_time.day)\n",
    "\t\"\"\" list of s_anp_p companies \"\"\"\n",
    "\ts_and_p = ['^IXIC']\n",
    "\t\t\n",
    "\tbad_names =[] #to keep track of failed queries\n",
    "\t\"\"\"here we use the concurrent.futures module's ThreadPoolExecutor\n",
    "\t\tto speed up the downloads buy doing them in parallel\n",
    "\t\tas opposed to sequentially \"\"\"\n",
    "\t#set the maximum thread number\n",
    "\tmax_workers = 50\n",
    "\tworkers = min(max_workers, len(s_and_p)) #in case a smaller number of stocks than threads was passed in\n",
    "\twith futures.ThreadPoolExecutor(workers) as executor:\n",
    "\t\tres = executor.map(download_stock, s_and_p)\n",
    "\t\n",
    "\t\"\"\" Save failed queries to a text file to retry \"\"\"\n",
    "\tif len(bad_names) > 0:\n",
    "\t\twith open('failed_queries.txt','w') as outfile:\n",
    "\t\t\tfor name in bad_names:\n",
    "\t\t\t\toutfile.write(name+'\\n')\n",
    "\t#timing:\n",
    "\tfinish_time = datetime.now()\n",
    "\tduration = finish_time - now_time\n",
    "\tminutes, seconds = divmod(duration.seconds, 60)\n",
    "\tprint('getSandP_threaded.py')\n",
    "\tprint(f'The threaded script took {minutes} minutes and {seconds} seconds to run.')\n",
    "\t#The threaded script took 0 minutes and 31 seconds to run."
   ]
  },
  {
   "cell_type": "code",
   "execution_count": 2,
   "id": "67cd094f",
   "metadata": {
    "scrolled": true
   },
   "outputs": [
    {
     "data": {
      "text/html": [
       "<div>\n",
       "<style scoped>\n",
       "    .dataframe tbody tr th:only-of-type {\n",
       "        vertical-align: middle;\n",
       "    }\n",
       "\n",
       "    .dataframe tbody tr th {\n",
       "        vertical-align: top;\n",
       "    }\n",
       "\n",
       "    .dataframe thead th {\n",
       "        text-align: right;\n",
       "    }\n",
       "</style>\n",
       "<table border=\"1\" class=\"dataframe\">\n",
       "  <thead>\n",
       "    <tr style=\"text-align: right;\">\n",
       "      <th></th>\n",
       "      <th>Date</th>\n",
       "      <th>High</th>\n",
       "      <th>Low</th>\n",
       "      <th>Open</th>\n",
       "      <th>Close</th>\n",
       "      <th>Volume</th>\n",
       "      <th>Adj Close</th>\n",
       "      <th>Name</th>\n",
       "    </tr>\n",
       "  </thead>\n",
       "  <tbody>\n",
       "    <tr>\n",
       "      <th>0</th>\n",
       "      <td>2016-08-09</td>\n",
       "      <td>5238.540039</td>\n",
       "      <td>5214.950195</td>\n",
       "      <td>5216.209961</td>\n",
       "      <td>5225.479980</td>\n",
       "      <td>1664320000</td>\n",
       "      <td>5225.479980</td>\n",
       "      <td>^IXIC</td>\n",
       "    </tr>\n",
       "    <tr>\n",
       "      <th>1</th>\n",
       "      <td>2016-08-10</td>\n",
       "      <td>5227.959961</td>\n",
       "      <td>5193.799805</td>\n",
       "      <td>5227.950195</td>\n",
       "      <td>5204.580078</td>\n",
       "      <td>1651240000</td>\n",
       "      <td>5204.580078</td>\n",
       "      <td>^IXIC</td>\n",
       "    </tr>\n",
       "    <tr>\n",
       "      <th>2</th>\n",
       "      <td>2016-08-11</td>\n",
       "      <td>5235.290039</td>\n",
       "      <td>5211.250000</td>\n",
       "      <td>5222.149902</td>\n",
       "      <td>5228.399902</td>\n",
       "      <td>1511670000</td>\n",
       "      <td>5228.399902</td>\n",
       "      <td>^IXIC</td>\n",
       "    </tr>\n",
       "    <tr>\n",
       "      <th>3</th>\n",
       "      <td>2016-08-12</td>\n",
       "      <td>5233.339844</td>\n",
       "      <td>5215.549805</td>\n",
       "      <td>5219.660156</td>\n",
       "      <td>5232.890137</td>\n",
       "      <td>1501620000</td>\n",
       "      <td>5232.890137</td>\n",
       "      <td>^IXIC</td>\n",
       "    </tr>\n",
       "    <tr>\n",
       "      <th>4</th>\n",
       "      <td>2016-08-15</td>\n",
       "      <td>5271.359863</td>\n",
       "      <td>5241.140137</td>\n",
       "      <td>5242.180176</td>\n",
       "      <td>5262.020020</td>\n",
       "      <td>1533170000</td>\n",
       "      <td>5262.020020</td>\n",
       "      <td>^IXIC</td>\n",
       "    </tr>\n",
       "    <tr>\n",
       "      <th>...</th>\n",
       "      <td>...</td>\n",
       "      <td>...</td>\n",
       "      <td>...</td>\n",
       "      <td>...</td>\n",
       "      <td>...</td>\n",
       "      <td>...</td>\n",
       "      <td>...</td>\n",
       "      <td>...</td>\n",
       "    </tr>\n",
       "    <tr>\n",
       "      <th>1254</th>\n",
       "      <td>2021-08-03</td>\n",
       "      <td>14762.599609</td>\n",
       "      <td>14584.089844</td>\n",
       "      <td>14713.990234</td>\n",
       "      <td>14761.290039</td>\n",
       "      <td>4117520000</td>\n",
       "      <td>14761.290039</td>\n",
       "      <td>^IXIC</td>\n",
       "    </tr>\n",
       "    <tr>\n",
       "      <th>1255</th>\n",
       "      <td>2021-08-04</td>\n",
       "      <td>14812.370117</td>\n",
       "      <td>14734.120117</td>\n",
       "      <td>14747.209961</td>\n",
       "      <td>14780.530273</td>\n",
       "      <td>4319400000</td>\n",
       "      <td>14780.530273</td>\n",
       "      <td>^IXIC</td>\n",
       "    </tr>\n",
       "    <tr>\n",
       "      <th>1256</th>\n",
       "      <td>2021-08-05</td>\n",
       "      <td>14896.469727</td>\n",
       "      <td>14776.030273</td>\n",
       "      <td>14794.080078</td>\n",
       "      <td>14895.120117</td>\n",
       "      <td>4087320000</td>\n",
       "      <td>14895.120117</td>\n",
       "      <td>^IXIC</td>\n",
       "    </tr>\n",
       "    <tr>\n",
       "      <th>1257</th>\n",
       "      <td>2021-08-06</td>\n",
       "      <td>14890.179688</td>\n",
       "      <td>14788.589844</td>\n",
       "      <td>14864.219727</td>\n",
       "      <td>14835.759766</td>\n",
       "      <td>4159050000</td>\n",
       "      <td>14835.759766</td>\n",
       "      <td>^IXIC</td>\n",
       "    </tr>\n",
       "    <tr>\n",
       "      <th>1258</th>\n",
       "      <td>2021-08-09</td>\n",
       "      <td>14883.807617</td>\n",
       "      <td>14802.691406</td>\n",
       "      <td>14855.799805</td>\n",
       "      <td>14860.176758</td>\n",
       "      <td>3801388000</td>\n",
       "      <td>14860.176758</td>\n",
       "      <td>^IXIC</td>\n",
       "    </tr>\n",
       "  </tbody>\n",
       "</table>\n",
       "<p>1259 rows × 8 columns</p>\n",
       "</div>"
      ],
      "text/plain": [
       "            Date          High           Low          Open         Close  \\\n",
       "0     2016-08-09   5238.540039   5214.950195   5216.209961   5225.479980   \n",
       "1     2016-08-10   5227.959961   5193.799805   5227.950195   5204.580078   \n",
       "2     2016-08-11   5235.290039   5211.250000   5222.149902   5228.399902   \n",
       "3     2016-08-12   5233.339844   5215.549805   5219.660156   5232.890137   \n",
       "4     2016-08-15   5271.359863   5241.140137   5242.180176   5262.020020   \n",
       "...          ...           ...           ...           ...           ...   \n",
       "1254  2021-08-03  14762.599609  14584.089844  14713.990234  14761.290039   \n",
       "1255  2021-08-04  14812.370117  14734.120117  14747.209961  14780.530273   \n",
       "1256  2021-08-05  14896.469727  14776.030273  14794.080078  14895.120117   \n",
       "1257  2021-08-06  14890.179688  14788.589844  14864.219727  14835.759766   \n",
       "1258  2021-08-09  14883.807617  14802.691406  14855.799805  14860.176758   \n",
       "\n",
       "          Volume     Adj Close   Name  \n",
       "0     1664320000   5225.479980  ^IXIC  \n",
       "1     1651240000   5204.580078  ^IXIC  \n",
       "2     1511670000   5228.399902  ^IXIC  \n",
       "3     1501620000   5232.890137  ^IXIC  \n",
       "4     1533170000   5262.020020  ^IXIC  \n",
       "...          ...           ...    ...  \n",
       "1254  4117520000  14761.290039  ^IXIC  \n",
       "1255  4319400000  14780.530273  ^IXIC  \n",
       "1256  4087320000  14895.120117  ^IXIC  \n",
       "1257  4159050000  14835.759766  ^IXIC  \n",
       "1258  3801388000  14860.176758  ^IXIC  \n",
       "\n",
       "[1259 rows x 8 columns]"
      ]
     },
     "execution_count": 2,
     "metadata": {},
     "output_type": "execute_result"
    }
   ],
   "source": [
    "df = pd.read_csv('^IXIC_data.csv')\n",
    "df"
   ]
  },
  {
   "cell_type": "code",
   "execution_count": 3,
   "id": "49b78374",
   "metadata": {},
   "outputs": [],
   "source": [
    "import os\n",
    "import warnings\n",
    "warnings.filterwarnings('ignore')\n",
    "from pylab import rcParams\n",
    "rcParams['figure.figsize'] = 10, 6\n",
    "from statsmodels.tsa.stattools import adfuller\n",
    "from statsmodels.tsa.seasonal import seasonal_decompose\n",
    "from statsmodels.tsa.arima_model import ARIMA\n",
    "\n",
    "from sklearn.metrics import mean_squared_error, mean_absolute_error\n",
    "import math\n",
    "import numpy as np\n",
    "\n",
    "from datetime import date\n",
    "import matplotlib.pyplot as plt\n",
    "import seaborn as sns\n",
    "import pandas as pd"
   ]
  },
  {
   "cell_type": "code",
   "execution_count": 4,
   "id": "39ad15b0",
   "metadata": {},
   "outputs": [],
   "source": [
    "from random import gauss as gs\n",
    "import pandas as pd\n",
    "import numpy as np\n",
    "import matplotlib.pyplot as plt\n",
    "from sklearn.metrics import mean_squared_error\n",
    "from sklearn.linear_model import LinearRegression\n",
    "import itertools\n",
    "#from pmdarima import auto_arima\n",
    "\n",
    "#statsmodels\n",
    "from statsmodels.tsa.arima.model import ARIMA\n",
    "from statsmodels.tsa.stattools import acf, pacf\n",
    "from statsmodels.graphics.tsaplots import plot_acf, plot_pacf\n",
    "from statsmodels.tsa.statespace.sarimax import SARIMAX\n",
    "\n",
    "import os, sys\n",
    "path_add = os.path.abspath(os.pardir)\n",
    "if path_add not in sys.path:\n",
    "    sys.path.append(path_add)\n",
    "\n",
    "%matplotlib inline\n",
    "warnings.filterwarnings('ignore')"
   ]
  },
  {
   "cell_type": "code",
   "execution_count": 5,
   "id": "b072d0ec",
   "metadata": {},
   "outputs": [
    {
     "data": {
      "image/png": "[encoded data removed]",
      "text/plain": [
       "<Figure size 720x432 with 1 Axes>"
      ]
     },
     "metadata": {
      "needs_background": "light"
     },
     "output_type": "display_data"
    }
   ],
   "source": [
    "plt.figure(figsize=(10,6))\n",
    "plt.grid(True)\n",
    "plt.xlabel('Dates')\n",
    "plt.ylabel('Close Prices')\n",
    "plt.plot(df['Close'])\n",
    "plt.title('IXIC Close Price')\n",
    "plt.show()"
   ]
  },
  {
   "cell_type": "code",
   "execution_count": 6,
   "id": "149652cd",
   "metadata": {},
   "outputs": [],
   "source": [
    "df.drop(columns=['High', 'Low', 'Open', 'Volume', 'Adj Close', 'Name'], inplace=True)"
   ]
  },
  {
   "cell_type": "code",
   "execution_count": 7,
   "id": "ddddde21",
   "metadata": {},
   "outputs": [
    {
     "data": {
      "text/html": [
       "<div>\n",
       "<style scoped>\n",
       "    .dataframe tbody tr th:only-of-type {\n",
       "        vertical-align: middle;\n",
       "    }\n",
       "\n",
       "    .dataframe tbody tr th {\n",
       "        vertical-align: top;\n",
       "    }\n",
       "\n",
       "    .dataframe thead th {\n",
       "        text-align: right;\n",
       "    }\n",
       "</style>\n",
       "<table border=\"1\" class=\"dataframe\">\n",
       "  <thead>\n",
       "    <tr style=\"text-align: right;\">\n",
       "      <th></th>\n",
       "      <th>Date</th>\n",
       "      <th>Close</th>\n",
       "    </tr>\n",
       "  </thead>\n",
       "  <tbody>\n",
       "    <tr>\n",
       "      <th>0</th>\n",
       "      <td>2016-08-09</td>\n",
       "      <td>5225.479980</td>\n",
       "    </tr>\n",
       "    <tr>\n",
       "      <th>1</th>\n",
       "      <td>2016-08-10</td>\n",
       "      <td>5204.580078</td>\n",
       "    </tr>\n",
       "    <tr>\n",
       "      <th>2</th>\n",
       "      <td>2016-08-11</td>\n",
       "      <td>5228.399902</td>\n",
       "    </tr>\n",
       "    <tr>\n",
       "      <th>3</th>\n",
       "      <td>2016-08-12</td>\n",
       "      <td>5232.890137</td>\n",
       "    </tr>\n",
       "    <tr>\n",
       "      <th>4</th>\n",
       "      <td>2016-08-15</td>\n",
       "      <td>5262.020020</td>\n",
       "    </tr>\n",
       "    <tr>\n",
       "      <th>...</th>\n",
       "      <td>...</td>\n",
       "      <td>...</td>\n",
       "    </tr>\n",
       "    <tr>\n",
       "      <th>1254</th>\n",
       "      <td>2021-08-03</td>\n",
       "      <td>14761.290039</td>\n",
       "    </tr>\n",
       "    <tr>\n",
       "      <th>1255</th>\n",
       "      <td>2021-08-04</td>\n",
       "      <td>14780.530273</td>\n",
       "    </tr>\n",
       "    <tr>\n",
       "      <th>1256</th>\n",
       "      <td>2021-08-05</td>\n",
       "      <td>14895.120117</td>\n",
       "    </tr>\n",
       "    <tr>\n",
       "      <th>1257</th>\n",
       "      <td>2021-08-06</td>\n",
       "      <td>14835.759766</td>\n",
       "    </tr>\n",
       "    <tr>\n",
       "      <th>1258</th>\n",
       "      <td>2021-08-09</td>\n",
       "      <td>14860.176758</td>\n",
       "    </tr>\n",
       "  </tbody>\n",
       "</table>\n",
       "<p>1259 rows × 2 columns</p>\n",
       "</div>"
      ],
      "text/plain": [
       "            Date         Close\n",
       "0     2016-08-09   5225.479980\n",
       "1     2016-08-10   5204.580078\n",
       "2     2016-08-11   5228.399902\n",
       "3     2016-08-12   5232.890137\n",
       "4     2016-08-15   5262.020020\n",
       "...          ...           ...\n",
       "1254  2021-08-03  14761.290039\n",
       "1255  2021-08-04  14780.530273\n",
       "1256  2021-08-05  14895.120117\n",
       "1257  2021-08-06  14835.759766\n",
       "1258  2021-08-09  14860.176758\n",
       "\n",
       "[1259 rows x 2 columns]"
      ]
     },
     "execution_count": 7,
     "metadata": {},
     "output_type": "execute_result"
    }
   ],
   "source": [
    "df"
   ]
  },
  {
   "cell_type": "code",
   "execution_count": 8,
   "id": "880758d1",
   "metadata": {},
   "outputs": [
    {
     "data": {
      "text/html": [
       "<div>\n",
       "<style scoped>\n",
       "    .dataframe tbody tr th:only-of-type {\n",
       "        vertical-align: middle;\n",
       "    }\n",
       "\n",
       "    .dataframe tbody tr th {\n",
       "        vertical-align: top;\n",
       "    }\n",
       "\n",
       "    .dataframe thead th {\n",
       "        text-align: right;\n",
       "    }\n",
       "</style>\n",
       "<table border=\"1\" class=\"dataframe\">\n",
       "  <thead>\n",
       "    <tr style=\"text-align: right;\">\n",
       "      <th></th>\n",
       "      <th>Close</th>\n",
       "    </tr>\n",
       "    <tr>\n",
       "      <th>Date</th>\n",
       "      <th></th>\n",
       "    </tr>\n",
       "  </thead>\n",
       "  <tbody>\n",
       "    <tr>\n",
       "      <th>2016-08-09</th>\n",
       "      <td>5225.47998</td>\n",
       "    </tr>\n",
       "  </tbody>\n",
       "</table>\n",
       "</div>"
      ],
      "text/plain": [
       "                 Close\n",
       "Date                  \n",
       "2016-08-09  5225.47998"
      ]
     },
     "execution_count": 8,
     "metadata": {},
     "output_type": "execute_result"
    }
   ],
   "source": [
    "df['Date'] = pd.to_datetime(df['Date'])\n",
    "df.set_index('Date', inplace=True)\n",
    "df.head(1)"
   ]
  },
  {
   "cell_type": "markdown",
   "id": "3b9d4f79",
   "metadata": {},
   "source": [
    "# Cutoff"
   ]
  },
  {
   "cell_type": "code",
   "execution_count": 90,
   "id": "205de316",
   "metadata": {},
   "outputs": [
    {
     "data": {
      "text/plain": [
       "881"
      ]
     },
     "execution_count": 90,
     "metadata": {},
     "output_type": "execute_result"
    }
   ],
   "source": [
    "cutoff = round(df.shape[0]*0.7)\n",
    "cutoff"
   ]
  },
  {
   "cell_type": "markdown",
   "id": "68d565fb",
   "metadata": {},
   "source": [
    "# Train/Test split"
   ]
  },
  {
   "cell_type": "code",
   "execution_count": 91,
   "id": "39680a08",
   "metadata": {},
   "outputs": [
    {
     "data": {
      "image/png": "[encoded data removed]",
      "text/plain": [
       "<Figure size 432x288 with 1 Axes>"
      ]
     },
     "metadata": {
      "needs_background": "light"
     },
     "output_type": "display_data"
    }
   ],
   "source": [
    "train = df[:cutoff]\n",
    "test = df[cutoff:]\n",
    "\n",
    "fig, ax = plt.subplots()\n",
    "ax.plot(train)\n",
    "ax.plot(test)\n",
    "ax.set_title('Train test Split');"
   ]
  },
  {
   "cell_type": "code",
   "execution_count": 11,
   "id": "847a7231",
   "metadata": {},
   "outputs": [
    {
     "data": {
      "text/html": [
       "<div>\n",
       "<style scoped>\n",
       "    .dataframe tbody tr th:only-of-type {\n",
       "        vertical-align: middle;\n",
       "    }\n",
       "\n",
       "    .dataframe tbody tr th {\n",
       "        vertical-align: top;\n",
       "    }\n",
       "\n",
       "    .dataframe thead th {\n",
       "        text-align: right;\n",
       "    }\n",
       "</style>\n",
       "<table border=\"1\" class=\"dataframe\">\n",
       "  <thead>\n",
       "    <tr style=\"text-align: right;\">\n",
       "      <th></th>\n",
       "      <th>Close</th>\n",
       "    </tr>\n",
       "    <tr>\n",
       "      <th>Date</th>\n",
       "      <th></th>\n",
       "    </tr>\n",
       "  </thead>\n",
       "  <tbody>\n",
       "    <tr>\n",
       "      <th>2020-02-10</th>\n",
       "      <td>9628.389648</td>\n",
       "    </tr>\n",
       "    <tr>\n",
       "      <th>2020-02-11</th>\n",
       "      <td>9638.940430</td>\n",
       "    </tr>\n",
       "    <tr>\n",
       "      <th>2020-02-12</th>\n",
       "      <td>9725.959961</td>\n",
       "    </tr>\n",
       "    <tr>\n",
       "      <th>2020-02-13</th>\n",
       "      <td>9711.969727</td>\n",
       "    </tr>\n",
       "    <tr>\n",
       "      <th>2020-02-14</th>\n",
       "      <td>9731.179688</td>\n",
       "    </tr>\n",
       "    <tr>\n",
       "      <th>...</th>\n",
       "      <td>...</td>\n",
       "    </tr>\n",
       "    <tr>\n",
       "      <th>2021-08-03</th>\n",
       "      <td>14761.290039</td>\n",
       "    </tr>\n",
       "    <tr>\n",
       "      <th>2021-08-04</th>\n",
       "      <td>14780.530273</td>\n",
       "    </tr>\n",
       "    <tr>\n",
       "      <th>2021-08-05</th>\n",
       "      <td>14895.120117</td>\n",
       "    </tr>\n",
       "    <tr>\n",
       "      <th>2021-08-06</th>\n",
       "      <td>14835.759766</td>\n",
       "    </tr>\n",
       "    <tr>\n",
       "      <th>2021-08-09</th>\n",
       "      <td>14860.176758</td>\n",
       "    </tr>\n",
       "  </tbody>\n",
       "</table>\n",
       "<p>378 rows × 1 columns</p>\n",
       "</div>"
      ],
      "text/plain": [
       "                   Close\n",
       "Date                    \n",
       "2020-02-10   9628.389648\n",
       "2020-02-11   9638.940430\n",
       "2020-02-12   9725.959961\n",
       "2020-02-13   9711.969727\n",
       "2020-02-14   9731.179688\n",
       "...                  ...\n",
       "2021-08-03  14761.290039\n",
       "2021-08-04  14780.530273\n",
       "2021-08-05  14895.120117\n",
       "2021-08-06  14835.759766\n",
       "2021-08-09  14860.176758\n",
       "\n",
       "[378 rows x 1 columns]"
      ]
     },
     "execution_count": 11,
     "metadata": {},
     "output_type": "execute_result"
    }
   ],
   "source": [
    "test"
   ]
  },
  {
   "cell_type": "markdown",
   "id": "6d0dbcb6",
   "metadata": {},
   "source": [
    "# Random walk"
   ]
  },
  {
   "cell_type": "code",
   "execution_count": 12,
   "id": "ee43b3df",
   "metadata": {
    "scrolled": true
   },
   "outputs": [
    {
     "data": {
      "text/html": [
       "<div>\n",
       "<style scoped>\n",
       "    .dataframe tbody tr th:only-of-type {\n",
       "        vertical-align: middle;\n",
       "    }\n",
       "\n",
       "    .dataframe tbody tr th {\n",
       "        vertical-align: top;\n",
       "    }\n",
       "\n",
       "    .dataframe thead th {\n",
       "        text-align: right;\n",
       "    }\n",
       "</style>\n",
       "<table border=\"1\" class=\"dataframe\">\n",
       "  <thead>\n",
       "    <tr style=\"text-align: right;\">\n",
       "      <th></th>\n",
       "      <th>Close</th>\n",
       "    </tr>\n",
       "    <tr>\n",
       "      <th>Date</th>\n",
       "      <th></th>\n",
       "    </tr>\n",
       "  </thead>\n",
       "  <tbody>\n",
       "    <tr>\n",
       "      <th>2016-08-09</th>\n",
       "      <td>NaN</td>\n",
       "    </tr>\n",
       "    <tr>\n",
       "      <th>2016-08-10</th>\n",
       "      <td>5225.479980</td>\n",
       "    </tr>\n",
       "    <tr>\n",
       "      <th>2016-08-11</th>\n",
       "      <td>5204.580078</td>\n",
       "    </tr>\n",
       "    <tr>\n",
       "      <th>2016-08-12</th>\n",
       "      <td>5228.399902</td>\n",
       "    </tr>\n",
       "    <tr>\n",
       "      <th>2016-08-15</th>\n",
       "      <td>5232.890137</td>\n",
       "    </tr>\n",
       "    <tr>\n",
       "      <th>...</th>\n",
       "      <td>...</td>\n",
       "    </tr>\n",
       "    <tr>\n",
       "      <th>2020-02-03</th>\n",
       "      <td>9150.940430</td>\n",
       "    </tr>\n",
       "    <tr>\n",
       "      <th>2020-02-04</th>\n",
       "      <td>9273.400391</td>\n",
       "    </tr>\n",
       "    <tr>\n",
       "      <th>2020-02-05</th>\n",
       "      <td>9467.969727</td>\n",
       "    </tr>\n",
       "    <tr>\n",
       "      <th>2020-02-06</th>\n",
       "      <td>9508.679688</td>\n",
       "    </tr>\n",
       "    <tr>\n",
       "      <th>2020-02-07</th>\n",
       "      <td>9572.150391</td>\n",
       "    </tr>\n",
       "  </tbody>\n",
       "</table>\n",
       "<p>881 rows × 1 columns</p>\n",
       "</div>"
      ],
      "text/plain": [
       "                  Close\n",
       "Date                   \n",
       "2016-08-09          NaN\n",
       "2016-08-10  5225.479980\n",
       "2016-08-11  5204.580078\n",
       "2016-08-12  5228.399902\n",
       "2016-08-15  5232.890137\n",
       "...                 ...\n",
       "2020-02-03  9150.940430\n",
       "2020-02-04  9273.400391\n",
       "2020-02-05  9467.969727\n",
       "2020-02-06  9508.679688\n",
       "2020-02-07  9572.150391\n",
       "\n",
       "[881 rows x 1 columns]"
      ]
     },
     "execution_count": 12,
     "metadata": {},
     "output_type": "execute_result"
    }
   ],
   "source": [
    "random_walk = train.shift(1)\n",
    "random_walk"
   ]
  },
  {
   "cell_type": "code",
   "execution_count": 13,
   "id": "df26bde4",
   "metadata": {},
   "outputs": [
    {
     "data": {
      "image/png": "[encoded data removed]",
      "text/plain": [
       "<Figure size 432x288 with 1 Axes>"
      ]
     },
     "metadata": {
      "needs_background": "light"
     },
     "output_type": "display_data"
    }
   ],
   "source": [
    "fig, ax = plt.subplots()\n",
    "\n",
    "train[0:30].plot(ax=ax, c='r', label='original')\n",
    "random_walk[0:30].plot(ax=ax, c='b', label='shifted')\n",
    "ax.set_title('Random Walk')\n",
    "ax.legend();"
   ]
  },
  {
   "cell_type": "code",
   "execution_count": 14,
   "id": "8ca3ad0c",
   "metadata": {},
   "outputs": [
    {
     "data": {
      "text/plain": [
       "70.84870074180614"
      ]
     },
     "execution_count": 14,
     "metadata": {},
     "output_type": "execute_result"
    }
   ],
   "source": [
    "np.sqrt(mean_squared_error(train[1:], random_walk.dropna()))"
   ]
  },
  {
   "cell_type": "code",
   "execution_count": 15,
   "id": "b10edcc5",
   "metadata": {},
   "outputs": [
    {
     "data": {
      "text/plain": [
       "Close    70.848701\n",
       "dtype: float64"
      ]
     },
     "execution_count": 15,
     "metadata": {},
     "output_type": "execute_result"
    }
   ],
   "source": [
    "residuals = random_walk[1:] - train[1:]\n",
    "mse = (residuals**2).sum()/len(residuals-1)\n",
    "np.sqrt(mse)"
   ]
  },
  {
   "cell_type": "code",
   "execution_count": 16,
   "id": "7514eacc",
   "metadata": {},
   "outputs": [
    {
     "data": {
      "image/png": "[encoded data removed]",
      "text/plain": [
       "<Figure size 432x288 with 1 Axes>"
      ]
     },
     "metadata": {
      "needs_background": "light"
     },
     "output_type": "display_data"
    }
   ],
   "source": [
    "fig, ax = plt.subplots()\n",
    "\n",
    "ax.plot(residuals.index, residuals)\n",
    "ax.plot(residuals.index, residuals.rolling(10).std());"
   ]
  },
  {
   "cell_type": "code",
   "execution_count": 17,
   "id": "4a3cfa4d",
   "metadata": {},
   "outputs": [
    {
     "data": {
      "image/png": "[encoded data removed]",
      "text/plain": [
       "<Figure size 432x288 with 1 Axes>"
      ]
     },
     "metadata": {
      "needs_background": "light"
     },
     "output_type": "display_data"
    }
   ],
   "source": [
    "fig, ax = plt.subplots()\n",
    "\n",
    "ax.plot(residuals.index, residuals.rolling(30).var());"
   ]
  },
  {
   "cell_type": "code",
   "execution_count": 18,
   "id": "1b083e76",
   "metadata": {},
   "outputs": [
    {
     "data": {
      "text/html": [
       "<table class=\"simpletable\">\n",
       "<caption>SARIMAX Results</caption>\n",
       "<tr>\n",
       "  <th>Dep. Variable:</th>         <td>Close</td>      <th>  No. Observations:  </th>    <td>881</td>   \n",
       "</tr>\n",
       "<tr>\n",
       "  <th>Model:</th>            <td>ARIMA(0, 1, 0)</td>  <th>  Log Likelihood     </th> <td>-4997.947</td>\n",
       "</tr>\n",
       "<tr>\n",
       "  <th>Date:</th>            <td>Mon, 09 Aug 2021</td> <th>  AIC                </th> <td>9997.894</td> \n",
       "</tr>\n",
       "<tr>\n",
       "  <th>Time:</th>                <td>16:09:55</td>     <th>  BIC                </th> <td>10002.674</td>\n",
       "</tr>\n",
       "<tr>\n",
       "  <th>Sample:</th>                  <td>0</td>        <th>  HQIC               </th> <td>9999.722</td> \n",
       "</tr>\n",
       "<tr>\n",
       "  <th></th>                      <td> - 881</td>      <th>                     </th>     <td> </td>    \n",
       "</tr>\n",
       "<tr>\n",
       "  <th>Covariance Type:</th>        <td>opg</td>       <th>                     </th>     <td> </td>    \n",
       "</tr>\n",
       "</table>\n",
       "<table class=\"simpletable\">\n",
       "<tr>\n",
       "     <td></td>       <th>coef</th>     <th>std err</th>      <th>z</th>      <th>P>|z|</th>  <th>[0.025</th>    <th>0.975]</th>  \n",
       "</tr>\n",
       "<tr>\n",
       "  <th>sigma2</th> <td> 5019.5400</td> <td>  145.199</td> <td>   34.570</td> <td> 0.000</td> <td> 4734.956</td> <td> 5304.124</td>\n",
       "</tr>\n",
       "</table>\n",
       "<table class=\"simpletable\">\n",
       "<tr>\n",
       "  <th>Ljung-Box (L1) (Q):</th>     <td>2.52</td> <th>  Jarque-Bera (JB):  </th> <td>540.47</td>\n",
       "</tr>\n",
       "<tr>\n",
       "  <th>Prob(Q):</th>                <td>0.11</td> <th>  Prob(JB):          </th>  <td>0.00</td> \n",
       "</tr>\n",
       "<tr>\n",
       "  <th>Heteroskedasticity (H):</th> <td>4.56</td> <th>  Skew:              </th>  <td>-0.62</td>\n",
       "</tr>\n",
       "<tr>\n",
       "  <th>Prob(H) (two-sided):</th>    <td>0.00</td> <th>  Kurtosis:          </th>  <td>6.64</td> \n",
       "</tr>\n",
       "</table><br/><br/>Warnings:<br/>[1] Covariance matrix calculated using the outer product of gradients (complex-step)."
      ],
      "text/plain": [
       "<class 'statsmodels.iolib.summary.Summary'>\n",
       "\"\"\"\n",
       "                               SARIMAX Results                                \n",
       "==============================================================================\n",
       "Dep. Variable:                  Close   No. Observations:                  881\n",
       "Model:                 ARIMA(0, 1, 0)   Log Likelihood               -4997.947\n",
       "Date:                Mon, 09 Aug 2021   AIC                           9997.894\n",
       "Time:                        16:09:55   BIC                          10002.674\n",
       "Sample:                             0   HQIC                          9999.722\n",
       "                                - 881                                         \n",
       "Covariance Type:                  opg                                         \n",
       "==============================================================================\n",
       "                 coef    std err          z      P>|z|      [0.025      0.975]\n",
       "------------------------------------------------------------------------------\n",
       "sigma2      5019.5400    145.199     34.570      0.000    4734.956    5304.124\n",
       "===================================================================================\n",
       "Ljung-Box (L1) (Q):                   2.52   Jarque-Bera (JB):               540.47\n",
       "Prob(Q):                              0.11   Prob(JB):                         0.00\n",
       "Heteroskedasticity (H):               4.56   Skew:                            -0.62\n",
       "Prob(H) (two-sided):                  0.00   Kurtosis:                         6.64\n",
       "===================================================================================\n",
       "\n",
       "Warnings:\n",
       "[1] Covariance matrix calculated using the outer product of gradients (complex-step).\n",
       "\"\"\""
      ]
     },
     "execution_count": 18,
     "metadata": {},
     "output_type": "execute_result"
    }
   ],
   "source": [
    "random_walk_model = ARIMA(train, order=(0, 1, 0)).fit()\n",
    "random_walk_model.summary()"
   ]
  },
  {
   "cell_type": "code",
   "execution_count": 19,
   "id": "60036740",
   "metadata": {
    "scrolled": true
   },
   "outputs": [
    {
     "data": {
      "text/plain": [
       "189.7571026861039"
      ]
     },
     "execution_count": 19,
     "metadata": {},
     "output_type": "execute_result"
    }
   ],
   "source": [
    "y_hat_rw = random_walk_model.predict(typ='levels')\n",
    "np.sqrt(mean_squared_error(train, y_hat_rw))"
   ]
  },
  {
   "cell_type": "markdown",
   "id": "dd2aaf4d",
   "metadata": {},
   "source": [
    "# Autoregressive Model"
   ]
  },
  {
   "cell_type": "code",
   "execution_count": 20,
   "id": "59199e77",
   "metadata": {},
   "outputs": [
    {
     "data": {
      "text/plain": [
       "Date\n",
       "2016-08-09       0.000000\n",
       "2016-08-10    5224.214725\n",
       "2016-08-11    5205.592253\n",
       "2016-08-12    5227.246317\n",
       "2016-08-15    5232.672676\n",
       "                 ...     \n",
       "2020-02-03    9158.107494\n",
       "2020-02-04    9267.469700\n",
       "2020-02-05    9458.546806\n",
       "2020-02-06    9506.708119\n",
       "2020-02-07    9569.076528\n",
       "Name: predicted_mean, Length: 881, dtype: float64"
      ]
     },
     "execution_count": 20,
     "metadata": {},
     "output_type": "execute_result"
    }
   ],
   "source": [
    "ar_1 = ARIMA(train, order=(1, 1, 0)).fit()\n",
    "ar_1.predict(typ='levels')"
   ]
  },
  {
   "cell_type": "code",
   "execution_count": 21,
   "id": "646fb0ee",
   "metadata": {},
   "outputs": [
    {
     "data": {
      "text/html": [
       "<table class=\"simpletable\">\n",
       "<caption>SARIMAX Results</caption>\n",
       "<tr>\n",
       "  <th>Dep. Variable:</th>         <td>Close</td>      <th>  No. Observations:  </th>    <td>881</td>   \n",
       "</tr>\n",
       "<tr>\n",
       "  <th>Model:</th>            <td>ARIMA(1, 1, 0)</td>  <th>  Log Likelihood     </th> <td>-4996.913</td>\n",
       "</tr>\n",
       "<tr>\n",
       "  <th>Date:</th>            <td>Mon, 09 Aug 2021</td> <th>  AIC                </th> <td>9997.827</td> \n",
       "</tr>\n",
       "<tr>\n",
       "  <th>Time:</th>                <td>16:09:55</td>     <th>  BIC                </th> <td>10007.387</td>\n",
       "</tr>\n",
       "<tr>\n",
       "  <th>Sample:</th>                  <td>0</td>        <th>  HQIC               </th> <td>10001.483</td>\n",
       "</tr>\n",
       "<tr>\n",
       "  <th></th>                      <td> - 881</td>      <th>                     </th>     <td> </td>    \n",
       "</tr>\n",
       "<tr>\n",
       "  <th>Covariance Type:</th>        <td>opg</td>       <th>                     </th>     <td> </td>    \n",
       "</tr>\n",
       "</table>\n",
       "<table class=\"simpletable\">\n",
       "<tr>\n",
       "     <td></td>       <th>coef</th>     <th>std err</th>      <th>z</th>      <th>P>|z|</th>  <th>[0.025</th>    <th>0.975]</th>  \n",
       "</tr>\n",
       "<tr>\n",
       "  <th>ar.L1</th>  <td>   -0.0484</td> <td>    0.024</td> <td>   -1.994</td> <td> 0.046</td> <td>   -0.096</td> <td>   -0.001</td>\n",
       "</tr>\n",
       "<tr>\n",
       "  <th>sigma2</th> <td> 5013.0034</td> <td>  146.730</td> <td>   34.165</td> <td> 0.000</td> <td> 4725.417</td> <td> 5300.590</td>\n",
       "</tr>\n",
       "</table>\n",
       "<table class=\"simpletable\">\n",
       "<tr>\n",
       "  <th>Ljung-Box (L1) (Q):</th>     <td>0.06</td> <th>  Jarque-Bera (JB):  </th> <td>541.84</td>\n",
       "</tr>\n",
       "<tr>\n",
       "  <th>Prob(Q):</th>                <td>0.81</td> <th>  Prob(JB):          </th>  <td>0.00</td> \n",
       "</tr>\n",
       "<tr>\n",
       "  <th>Heteroskedasticity (H):</th> <td>4.59</td> <th>  Skew:              </th>  <td>-0.67</td>\n",
       "</tr>\n",
       "<tr>\n",
       "  <th>Prob(H) (two-sided):</th>    <td>0.00</td> <th>  Kurtosis:          </th>  <td>6.60</td> \n",
       "</tr>\n",
       "</table><br/><br/>Warnings:<br/>[1] Covariance matrix calculated using the outer product of gradients (complex-step)."
      ],
      "text/plain": [
       "<class 'statsmodels.iolib.summary.Summary'>\n",
       "\"\"\"\n",
       "                               SARIMAX Results                                \n",
       "==============================================================================\n",
       "Dep. Variable:                  Close   No. Observations:                  881\n",
       "Model:                 ARIMA(1, 1, 0)   Log Likelihood               -4996.913\n",
       "Date:                Mon, 09 Aug 2021   AIC                           9997.827\n",
       "Time:                        16:09:55   BIC                          10007.387\n",
       "Sample:                             0   HQIC                         10001.483\n",
       "                                - 881                                         \n",
       "Covariance Type:                  opg                                         \n",
       "==============================================================================\n",
       "                 coef    std err          z      P>|z|      [0.025      0.975]\n",
       "------------------------------------------------------------------------------\n",
       "ar.L1         -0.0484      0.024     -1.994      0.046      -0.096      -0.001\n",
       "sigma2      5013.0034    146.730     34.165      0.000    4725.417    5300.590\n",
       "===================================================================================\n",
       "Ljung-Box (L1) (Q):                   0.06   Jarque-Bera (JB):               541.84\n",
       "Prob(Q):                              0.81   Prob(JB):                         0.00\n",
       "Heteroskedasticity (H):               4.59   Skew:                            -0.67\n",
       "Prob(H) (two-sided):                  0.00   Kurtosis:                         6.60\n",
       "===================================================================================\n",
       "\n",
       "Warnings:\n",
       "[1] Covariance matrix calculated using the outer product of gradients (complex-step).\n",
       "\"\"\""
      ]
     },
     "execution_count": 21,
     "metadata": {},
     "output_type": "execute_result"
    }
   ],
   "source": [
    "ar_1.summary()"
   ]
  },
  {
   "cell_type": "code",
   "execution_count": 22,
   "id": "fc02e777",
   "metadata": {},
   "outputs": [
    {
     "data": {
      "text/plain": [
       "9997.826931181473"
      ]
     },
     "execution_count": 22,
     "metadata": {},
     "output_type": "execute_result"
    }
   ],
   "source": [
    "ar_1.aic"
   ]
  },
  {
   "cell_type": "code",
   "execution_count": 23,
   "id": "9f98a5ef",
   "metadata": {},
   "outputs": [
    {
     "data": {
      "text/html": [
       "<table class=\"simpletable\">\n",
       "<caption>SARIMAX Results</caption>\n",
       "<tr>\n",
       "  <th>Dep. Variable:</th>         <td>Close</td>      <th>  No. Observations:  </th>    <td>881</td>   \n",
       "</tr>\n",
       "<tr>\n",
       "  <th>Model:</th>            <td>ARIMA(0, 1, 0)</td>  <th>  Log Likelihood     </th> <td>-4997.947</td>\n",
       "</tr>\n",
       "<tr>\n",
       "  <th>Date:</th>            <td>Mon, 09 Aug 2021</td> <th>  AIC                </th> <td>9997.894</td> \n",
       "</tr>\n",
       "<tr>\n",
       "  <th>Time:</th>                <td>16:09:55</td>     <th>  BIC                </th> <td>10002.674</td>\n",
       "</tr>\n",
       "<tr>\n",
       "  <th>Sample:</th>                  <td>0</td>        <th>  HQIC               </th> <td>9999.722</td> \n",
       "</tr>\n",
       "<tr>\n",
       "  <th></th>                      <td> - 881</td>      <th>                     </th>     <td> </td>    \n",
       "</tr>\n",
       "<tr>\n",
       "  <th>Covariance Type:</th>        <td>opg</td>       <th>                     </th>     <td> </td>    \n",
       "</tr>\n",
       "</table>\n",
       "<table class=\"simpletable\">\n",
       "<tr>\n",
       "     <td></td>       <th>coef</th>     <th>std err</th>      <th>z</th>      <th>P>|z|</th>  <th>[0.025</th>    <th>0.975]</th>  \n",
       "</tr>\n",
       "<tr>\n",
       "  <th>sigma2</th> <td> 5019.5400</td> <td>  145.199</td> <td>   34.570</td> <td> 0.000</td> <td> 4734.956</td> <td> 5304.124</td>\n",
       "</tr>\n",
       "</table>\n",
       "<table class=\"simpletable\">\n",
       "<tr>\n",
       "  <th>Ljung-Box (L1) (Q):</th>     <td>2.52</td> <th>  Jarque-Bera (JB):  </th> <td>540.47</td>\n",
       "</tr>\n",
       "<tr>\n",
       "  <th>Prob(Q):</th>                <td>0.11</td> <th>  Prob(JB):          </th>  <td>0.00</td> \n",
       "</tr>\n",
       "<tr>\n",
       "  <th>Heteroskedasticity (H):</th> <td>4.56</td> <th>  Skew:              </th>  <td>-0.62</td>\n",
       "</tr>\n",
       "<tr>\n",
       "  <th>Prob(H) (two-sided):</th>    <td>0.00</td> <th>  Kurtosis:          </th>  <td>6.64</td> \n",
       "</tr>\n",
       "</table><br/><br/>Warnings:<br/>[1] Covariance matrix calculated using the outer product of gradients (complex-step)."
      ],
      "text/plain": [
       "<class 'statsmodels.iolib.summary.Summary'>\n",
       "\"\"\"\n",
       "                               SARIMAX Results                                \n",
       "==============================================================================\n",
       "Dep. Variable:                  Close   No. Observations:                  881\n",
       "Model:                 ARIMA(0, 1, 0)   Log Likelihood               -4997.947\n",
       "Date:                Mon, 09 Aug 2021   AIC                           9997.894\n",
       "Time:                        16:09:55   BIC                          10002.674\n",
       "Sample:                             0   HQIC                          9999.722\n",
       "                                - 881                                         \n",
       "Covariance Type:                  opg                                         \n",
       "==============================================================================\n",
       "                 coef    std err          z      P>|z|      [0.025      0.975]\n",
       "------------------------------------------------------------------------------\n",
       "sigma2      5019.5400    145.199     34.570      0.000    4734.956    5304.124\n",
       "===================================================================================\n",
       "Ljung-Box (L1) (Q):                   2.52   Jarque-Bera (JB):               540.47\n",
       "Prob(Q):                              0.11   Prob(JB):                         0.00\n",
       "Heteroskedasticity (H):               4.56   Skew:                            -0.62\n",
       "Prob(H) (two-sided):                  0.00   Kurtosis:                         6.64\n",
       "===================================================================================\n",
       "\n",
       "Warnings:\n",
       "[1] Covariance matrix calculated using the outer product of gradients (complex-step).\n",
       "\"\"\""
      ]
     },
     "execution_count": 23,
     "metadata": {},
     "output_type": "execute_result"
    }
   ],
   "source": [
    "random_walk_model = ARIMA(train, order=(0, 1, 0)).fit()\n",
    "random_walk_model.summary()"
   ]
  },
  {
   "cell_type": "code",
   "execution_count": 24,
   "id": "2e10a6b6",
   "metadata": {},
   "outputs": [
    {
     "name": "stdout",
     "output_type": "stream",
     "text": [
      "Random Walk AIC: 9997.893883394292\n",
      "AR(1, 1, 0) AIC: 9997.826931181473\n"
     ]
    }
   ],
   "source": [
    "print(f'Random Walk AIC: {random_walk_model.aic}')\n",
    "print(f'AR(1, 1, 0) AIC: {ar_1.aic}' )"
   ]
  },
  {
   "cell_type": "markdown",
   "id": "2e9e7af4",
   "metadata": {},
   "source": [
    "# AutoRegressive 2"
   ]
  },
  {
   "cell_type": "code",
   "execution_count": 25,
   "id": "33212410",
   "metadata": {},
   "outputs": [
    {
     "data": {
      "text/plain": [
       "Date\n",
       "2016-08-09       0.000000\n",
       "2016-08-10    5224.213247\n",
       "2016-08-11    5204.038614\n",
       "2016-08-12    5229.609563\n",
       "2016-08-15    5230.357707\n",
       "                 ...     \n",
       "2020-02-03    9157.017410\n",
       "2020-02-04    9276.992902\n",
       "2020-02-05    9444.774758\n",
       "2020-02-06    9501.179456\n",
       "2020-02-07    9575.624433\n",
       "Name: predicted_mean, Length: 881, dtype: float64"
      ]
     },
     "execution_count": 25,
     "metadata": {},
     "output_type": "execute_result"
    }
   ],
   "source": [
    "ar_2 = ARIMA(train, order=(3, 1, 0)).fit()\n",
    "\n",
    "ar_2.predict(typ='levels')"
   ]
  },
  {
   "cell_type": "code",
   "execution_count": 26,
   "id": "be697904",
   "metadata": {},
   "outputs": [
    {
     "name": "stdout",
     "output_type": "stream",
     "text": [
      "9996.874419581043\n"
     ]
    }
   ],
   "source": [
    "print(ar_2.aic)"
   ]
  },
  {
   "cell_type": "markdown",
   "id": "e2f9e6e5",
   "metadata": {},
   "source": [
    "# Moving Average"
   ]
  },
  {
   "cell_type": "code",
   "execution_count": 27,
   "id": "baa3e3e7",
   "metadata": {},
   "outputs": [
    {
     "data": {
      "text/plain": [
       "Date\n",
       "2016-08-09       0.000000\n",
       "2016-08-10    5224.343040\n",
       "2016-08-11    5204.099378\n",
       "2016-08-12    5228.301100\n",
       "2016-08-15    5231.425305\n",
       "                 ...     \n",
       "2020-02-03    9156.159702\n",
       "2020-02-04    9275.562089\n",
       "2020-02-05    9453.020887\n",
       "2020-02-06    9496.159767\n",
       "2020-02-07    9565.762661\n",
       "Name: predicted_mean, Length: 881, dtype: float64"
      ]
     },
     "execution_count": 27,
     "metadata": {},
     "output_type": "execute_result"
    }
   ],
   "source": [
    "ma_1 = ARIMA(train, order=(0, 1, 2)).fit()\n",
    "y_hat = ma_1.predict(typ='levels')\n",
    "y_hat"
   ]
  },
  {
   "cell_type": "code",
   "execution_count": 28,
   "id": "a9cd181d",
   "metadata": {},
   "outputs": [
    {
     "data": {
      "text/html": [
       "<table class=\"simpletable\">\n",
       "<caption>SARIMAX Results</caption>\n",
       "<tr>\n",
       "  <th>Dep. Variable:</th>         <td>Close</td>      <th>  No. Observations:  </th>    <td>881</td>   \n",
       "</tr>\n",
       "<tr>\n",
       "  <th>Model:</th>            <td>ARIMA(0, 1, 2)</td>  <th>  Log Likelihood     </th> <td>-4995.610</td>\n",
       "</tr>\n",
       "<tr>\n",
       "  <th>Date:</th>            <td>Mon, 09 Aug 2021</td> <th>  AIC                </th> <td>9997.221</td> \n",
       "</tr>\n",
       "<tr>\n",
       "  <th>Time:</th>                <td>16:09:55</td>     <th>  BIC                </th> <td>10011.561</td>\n",
       "</tr>\n",
       "<tr>\n",
       "  <th>Sample:</th>                  <td>0</td>        <th>  HQIC               </th> <td>10002.705</td>\n",
       "</tr>\n",
       "<tr>\n",
       "  <th></th>                      <td> - 881</td>      <th>                     </th>     <td> </td>    \n",
       "</tr>\n",
       "<tr>\n",
       "  <th>Covariance Type:</th>        <td>opg</td>       <th>                     </th>     <td> </td>    \n",
       "</tr>\n",
       "</table>\n",
       "<table class=\"simpletable\">\n",
       "<tr>\n",
       "     <td></td>       <th>coef</th>     <th>std err</th>      <th>z</th>      <th>P>|z|</th>  <th>[0.025</th>    <th>0.975]</th>  \n",
       "</tr>\n",
       "<tr>\n",
       "  <th>ma.L1</th>  <td>   -0.0462</td> <td>    0.024</td> <td>   -1.901</td> <td> 0.057</td> <td>   -0.094</td> <td>    0.001</td>\n",
       "</tr>\n",
       "<tr>\n",
       "  <th>ma.L2</th>  <td>   -0.0517</td> <td>    0.024</td> <td>   -2.175</td> <td> 0.030</td> <td>   -0.098</td> <td>   -0.005</td>\n",
       "</tr>\n",
       "<tr>\n",
       "  <th>sigma2</th> <td> 4992.7643</td> <td>  146.328</td> <td>   34.120</td> <td> 0.000</td> <td> 4705.967</td> <td> 5279.562</td>\n",
       "</tr>\n",
       "</table>\n",
       "<table class=\"simpletable\">\n",
       "<tr>\n",
       "  <th>Ljung-Box (L1) (Q):</th>     <td>0.06</td> <th>  Jarque-Bera (JB):  </th> <td>553.45</td>\n",
       "</tr>\n",
       "<tr>\n",
       "  <th>Prob(Q):</th>                <td>0.80</td> <th>  Prob(JB):          </th>  <td>0.00</td> \n",
       "</tr>\n",
       "<tr>\n",
       "  <th>Heteroskedasticity (H):</th> <td>4.53</td> <th>  Skew:              </th>  <td>-0.72</td>\n",
       "</tr>\n",
       "<tr>\n",
       "  <th>Prob(H) (two-sided):</th>    <td>0.00</td> <th>  Kurtosis:          </th>  <td>6.60</td> \n",
       "</tr>\n",
       "</table><br/><br/>Warnings:<br/>[1] Covariance matrix calculated using the outer product of gradients (complex-step)."
      ],
      "text/plain": [
       "<class 'statsmodels.iolib.summary.Summary'>\n",
       "\"\"\"\n",
       "                               SARIMAX Results                                \n",
       "==============================================================================\n",
       "Dep. Variable:                  Close   No. Observations:                  881\n",
       "Model:                 ARIMA(0, 1, 2)   Log Likelihood               -4995.610\n",
       "Date:                Mon, 09 Aug 2021   AIC                           9997.221\n",
       "Time:                        16:09:55   BIC                          10011.561\n",
       "Sample:                             0   HQIC                         10002.705\n",
       "                                - 881                                         \n",
       "Covariance Type:                  opg                                         \n",
       "==============================================================================\n",
       "                 coef    std err          z      P>|z|      [0.025      0.975]\n",
       "------------------------------------------------------------------------------\n",
       "ma.L1         -0.0462      0.024     -1.901      0.057      -0.094       0.001\n",
       "ma.L2         -0.0517      0.024     -2.175      0.030      -0.098      -0.005\n",
       "sigma2      4992.7643    146.328     34.120      0.000    4705.967    5279.562\n",
       "===================================================================================\n",
       "Ljung-Box (L1) (Q):                   0.06   Jarque-Bera (JB):               553.45\n",
       "Prob(Q):                              0.80   Prob(JB):                         0.00\n",
       "Heteroskedasticity (H):               4.53   Skew:                            -0.72\n",
       "Prob(H) (two-sided):                  0.00   Kurtosis:                         6.60\n",
       "===================================================================================\n",
       "\n",
       "Warnings:\n",
       "[1] Covariance matrix calculated using the outer product of gradients (complex-step).\n",
       "\"\"\""
      ]
     },
     "execution_count": 28,
     "metadata": {},
     "output_type": "execute_result"
    }
   ],
   "source": [
    "ma_1.summary()"
   ]
  },
  {
   "cell_type": "markdown",
   "id": "3711ca2e",
   "metadata": {},
   "source": [
    "# ARMA"
   ]
  },
  {
   "cell_type": "code",
   "execution_count": 29,
   "id": "e2e2d173",
   "metadata": {},
   "outputs": [
    {
     "name": "stdout",
     "output_type": "stream",
     "text": [
      "9992.117917816886\n"
     ]
    }
   ],
   "source": [
    "arma_21 = ARIMA(train, order=(2, 1, 2)).fit()\n",
    "print(arma_21.aic)"
   ]
  },
  {
   "cell_type": "code",
   "execution_count": 30,
   "id": "9fb3c961",
   "metadata": {},
   "outputs": [
    {
     "data": {
      "image/png": "[encoded data removed]",
      "text/plain": [
       "<Figure size 432x288 with 1 Axes>"
      ]
     },
     "metadata": {
      "needs_background": "light"
     },
     "output_type": "display_data"
    }
   ],
   "source": [
    "plot_pacf(train.diff().dropna());"
   ]
  },
  {
   "cell_type": "markdown",
   "id": "5ca3f948",
   "metadata": {},
   "source": [
    "# AA model"
   ]
  },
  {
   "cell_type": "code",
   "execution_count": 31,
   "id": "34eb0d33",
   "metadata": {},
   "outputs": [
    {
     "data": {
      "text/html": [
       "<div>\n",
       "<style scoped>\n",
       "    .dataframe tbody tr th:only-of-type {\n",
       "        vertical-align: middle;\n",
       "    }\n",
       "\n",
       "    .dataframe tbody tr th {\n",
       "        vertical-align: top;\n",
       "    }\n",
       "\n",
       "    .dataframe thead th {\n",
       "        text-align: right;\n",
       "    }\n",
       "</style>\n",
       "<table border=\"1\" class=\"dataframe\">\n",
       "  <thead>\n",
       "    <tr style=\"text-align: right;\">\n",
       "      <th></th>\n",
       "      <th>Close</th>\n",
       "    </tr>\n",
       "    <tr>\n",
       "      <th>Date</th>\n",
       "      <th></th>\n",
       "    </tr>\n",
       "  </thead>\n",
       "  <tbody>\n",
       "    <tr>\n",
       "      <th>2016-08-09</th>\n",
       "      <td>5225.479980</td>\n",
       "    </tr>\n",
       "    <tr>\n",
       "      <th>2016-08-10</th>\n",
       "      <td>5204.580078</td>\n",
       "    </tr>\n",
       "    <tr>\n",
       "      <th>2016-08-11</th>\n",
       "      <td>5228.399902</td>\n",
       "    </tr>\n",
       "    <tr>\n",
       "      <th>2016-08-12</th>\n",
       "      <td>5232.890137</td>\n",
       "    </tr>\n",
       "    <tr>\n",
       "      <th>2016-08-15</th>\n",
       "      <td>5262.020020</td>\n",
       "    </tr>\n",
       "    <tr>\n",
       "      <th>...</th>\n",
       "      <td>...</td>\n",
       "    </tr>\n",
       "    <tr>\n",
       "      <th>2020-02-03</th>\n",
       "      <td>9273.400391</td>\n",
       "    </tr>\n",
       "    <tr>\n",
       "      <th>2020-02-04</th>\n",
       "      <td>9467.969727</td>\n",
       "    </tr>\n",
       "    <tr>\n",
       "      <th>2020-02-05</th>\n",
       "      <td>9508.679688</td>\n",
       "    </tr>\n",
       "    <tr>\n",
       "      <th>2020-02-06</th>\n",
       "      <td>9572.150391</td>\n",
       "    </tr>\n",
       "    <tr>\n",
       "      <th>2020-02-07</th>\n",
       "      <td>9520.509766</td>\n",
       "    </tr>\n",
       "  </tbody>\n",
       "</table>\n",
       "<p>881 rows × 1 columns</p>\n",
       "</div>"
      ],
      "text/plain": [
       "                  Close\n",
       "Date                   \n",
       "2016-08-09  5225.479980\n",
       "2016-08-10  5204.580078\n",
       "2016-08-11  5228.399902\n",
       "2016-08-12  5232.890137\n",
       "2016-08-15  5262.020020\n",
       "...                 ...\n",
       "2020-02-03  9273.400391\n",
       "2020-02-04  9467.969727\n",
       "2020-02-05  9508.679688\n",
       "2020-02-06  9572.150391\n",
       "2020-02-07  9520.509766\n",
       "\n",
       "[881 rows x 1 columns]"
      ]
     },
     "execution_count": 31,
     "metadata": {},
     "output_type": "execute_result"
    }
   ],
   "source": [
    "train"
   ]
  },
  {
   "cell_type": "code",
   "execution_count": 102,
   "id": "a6971af8",
   "metadata": {
    "scrolled": false
   },
   "outputs": [
    {
     "data": {
      "image/png": "[encoded data removed]",
      "text/plain": [
       "<Figure size 864x720 with 1 Axes>"
      ]
     },
     "metadata": {
      "needs_background": "light"
     },
     "output_type": "display_data"
    }
   ],
   "source": [
    "aa_model = ARIMA(res_train, order=(1, 1, 2)).fit()\n",
    "y_hat_train = aa_model.predict(typ='levels')\n",
    "\n",
    "fig, ax = plt.subplots(figsize=(12,10))\n",
    "ax.plot(y_hat_train[1:], color='b')\n",
    "ax.plot(train, color='r');"
   ]
  },
  {
   "cell_type": "code",
   "execution_count": 103,
   "id": "4426c515",
   "metadata": {},
   "outputs": [],
   "source": [
    "y_hat_train = aa_model.predict(start=res_train.index[2], end=res_train.index[-1], typ='levels')"
   ]
  },
  {
   "cell_type": "code",
   "execution_count": 104,
   "id": "f0c8cf10",
   "metadata": {},
   "outputs": [
    {
     "data": {
      "text/plain": [
       "Date\n",
       "2016-08-11    5203.627216\n",
       "2016-08-12    5229.968718\n",
       "2016-08-15    5229.744685\n",
       "2016-08-16    5263.245879\n",
       "2016-08-17    5224.546644\n",
       "                 ...     \n",
       "2020-02-03    9145.556061\n",
       "2020-02-04    9286.757316\n",
       "2020-02-05    9444.198376\n",
       "2020-02-06    9509.908343\n",
       "2020-02-07    9564.763179\n",
       "Freq: B, Name: predicted_mean, Length: 912, dtype: float64"
      ]
     },
     "execution_count": 104,
     "metadata": {},
     "output_type": "execute_result"
    }
   ],
   "source": [
    "y_hat_train"
   ]
  },
  {
   "cell_type": "code",
   "execution_count": 105,
   "id": "ce5a62cd",
   "metadata": {},
   "outputs": [
    {
     "data": {
      "text/plain": [
       "[<matplotlib.lines.Line2D at 0x13cb31490>]"
      ]
     },
     "execution_count": 105,
     "metadata": {},
     "output_type": "execute_result"
    },
    {
     "data": {
      "image/png": "[encoded data removed]",
      "text/plain": [
       "<Figure size 1080x720 with 1 Axes>"
      ]
     },
     "metadata": {
      "needs_background": "light"
     },
     "output_type": "display_data"
    }
   ],
   "source": [
    "fig, ax = plt.subplots(figsize= (15, 10))\n",
    "ax.plot(y_hat_train);\n",
    "ax.plot(train[1:].resample('B').mean())"
   ]
  },
  {
   "cell_type": "code",
   "execution_count": 107,
   "id": "2c1fb85c",
   "metadata": {},
   "outputs": [
    {
     "data": {
      "text/plain": [
       "69.29918488938517"
      ]
     },
     "execution_count": 107,
     "metadata": {},
     "output_type": "execute_result"
    }
   ],
   "source": [
    "np.sqrt(mean_squared_error(res_train[2:], y_hat_train))"
   ]
  },
  {
   "cell_type": "code",
   "execution_count": 108,
   "id": "c7317981",
   "metadata": {},
   "outputs": [
    {
     "data": {
      "text/plain": [
       "Date\n",
       "2016-08-09    False\n",
       "2016-08-10    False\n",
       "2016-08-11    False\n",
       "2016-08-12    False\n",
       "2016-08-15    False\n",
       "              ...  \n",
       "2020-02-03    False\n",
       "2020-02-04    False\n",
       "2020-02-05    False\n",
       "2020-02-06    False\n",
       "2020-02-07    False\n",
       "Name: Close, Length: 881, dtype: bool"
      ]
     },
     "execution_count": 108,
     "metadata": {},
     "output_type": "execute_result"
    }
   ],
   "source": [
    "train.isnull()['Close'] "
   ]
  },
  {
   "cell_type": "code",
   "execution_count": 109,
   "id": "3f694b37",
   "metadata": {
    "scrolled": true
   },
   "outputs": [],
   "source": [
    "train_resample_B = train.resample('B').mean().isnull()"
   ]
  },
  {
   "cell_type": "code",
   "execution_count": 110,
   "id": "3343e834",
   "metadata": {},
   "outputs": [
    {
     "data": {
      "text/html": [
       "<div>\n",
       "<style scoped>\n",
       "    .dataframe tbody tr th:only-of-type {\n",
       "        vertical-align: middle;\n",
       "    }\n",
       "\n",
       "    .dataframe tbody tr th {\n",
       "        vertical-align: top;\n",
       "    }\n",
       "\n",
       "    .dataframe thead th {\n",
       "        text-align: right;\n",
       "    }\n",
       "</style>\n",
       "<table border=\"1\" class=\"dataframe\">\n",
       "  <thead>\n",
       "    <tr style=\"text-align: right;\">\n",
       "      <th></th>\n",
       "      <th>Close</th>\n",
       "    </tr>\n",
       "    <tr>\n",
       "      <th>Date</th>\n",
       "      <th></th>\n",
       "    </tr>\n",
       "  </thead>\n",
       "  <tbody>\n",
       "    <tr>\n",
       "      <th>2016-08-09</th>\n",
       "      <td>False</td>\n",
       "    </tr>\n",
       "    <tr>\n",
       "      <th>2016-08-10</th>\n",
       "      <td>False</td>\n",
       "    </tr>\n",
       "    <tr>\n",
       "      <th>2016-08-11</th>\n",
       "      <td>False</td>\n",
       "    </tr>\n",
       "    <tr>\n",
       "      <th>2016-08-12</th>\n",
       "      <td>False</td>\n",
       "    </tr>\n",
       "    <tr>\n",
       "      <th>2016-08-15</th>\n",
       "      <td>False</td>\n",
       "    </tr>\n",
       "    <tr>\n",
       "      <th>...</th>\n",
       "      <td>...</td>\n",
       "    </tr>\n",
       "    <tr>\n",
       "      <th>2020-02-03</th>\n",
       "      <td>False</td>\n",
       "    </tr>\n",
       "    <tr>\n",
       "      <th>2020-02-04</th>\n",
       "      <td>False</td>\n",
       "    </tr>\n",
       "    <tr>\n",
       "      <th>2020-02-05</th>\n",
       "      <td>False</td>\n",
       "    </tr>\n",
       "    <tr>\n",
       "      <th>2020-02-06</th>\n",
       "      <td>False</td>\n",
       "    </tr>\n",
       "    <tr>\n",
       "      <th>2020-02-07</th>\n",
       "      <td>False</td>\n",
       "    </tr>\n",
       "  </tbody>\n",
       "</table>\n",
       "<p>914 rows × 1 columns</p>\n",
       "</div>"
      ],
      "text/plain": [
       "            Close\n",
       "Date             \n",
       "2016-08-09  False\n",
       "2016-08-10  False\n",
       "2016-08-11  False\n",
       "2016-08-12  False\n",
       "2016-08-15  False\n",
       "...           ...\n",
       "2020-02-03  False\n",
       "2020-02-04  False\n",
       "2020-02-05  False\n",
       "2020-02-06  False\n",
       "2020-02-07  False\n",
       "\n",
       "[914 rows x 1 columns]"
      ]
     },
     "execution_count": 110,
     "metadata": {},
     "output_type": "execute_result"
    }
   ],
   "source": [
    "train_resample_B"
   ]
  },
  {
   "cell_type": "code",
   "execution_count": 111,
   "id": "c1209e43",
   "metadata": {},
   "outputs": [
    {
     "data": {
      "text/html": [
       "<div>\n",
       "<style scoped>\n",
       "    .dataframe tbody tr th:only-of-type {\n",
       "        vertical-align: middle;\n",
       "    }\n",
       "\n",
       "    .dataframe tbody tr th {\n",
       "        vertical-align: top;\n",
       "    }\n",
       "\n",
       "    .dataframe thead th {\n",
       "        text-align: right;\n",
       "    }\n",
       "</style>\n",
       "<table border=\"1\" class=\"dataframe\">\n",
       "  <thead>\n",
       "    <tr style=\"text-align: right;\">\n",
       "      <th></th>\n",
       "      <th>Close</th>\n",
       "    </tr>\n",
       "    <tr>\n",
       "      <th>Date</th>\n",
       "      <th></th>\n",
       "    </tr>\n",
       "  </thead>\n",
       "  <tbody>\n",
       "    <tr>\n",
       "      <th>2016-09-05</th>\n",
       "      <td>True</td>\n",
       "    </tr>\n",
       "    <tr>\n",
       "      <th>2016-11-24</th>\n",
       "      <td>True</td>\n",
       "    </tr>\n",
       "    <tr>\n",
       "      <th>2016-12-26</th>\n",
       "      <td>True</td>\n",
       "    </tr>\n",
       "    <tr>\n",
       "      <th>2017-01-02</th>\n",
       "      <td>True</td>\n",
       "    </tr>\n",
       "    <tr>\n",
       "      <th>2017-01-16</th>\n",
       "      <td>True</td>\n",
       "    </tr>\n",
       "    <tr>\n",
       "      <th>2017-02-20</th>\n",
       "      <td>True</td>\n",
       "    </tr>\n",
       "    <tr>\n",
       "      <th>2017-04-14</th>\n",
       "      <td>True</td>\n",
       "    </tr>\n",
       "    <tr>\n",
       "      <th>2017-05-29</th>\n",
       "      <td>True</td>\n",
       "    </tr>\n",
       "    <tr>\n",
       "      <th>2017-07-04</th>\n",
       "      <td>True</td>\n",
       "    </tr>\n",
       "    <tr>\n",
       "      <th>2017-09-04</th>\n",
       "      <td>True</td>\n",
       "    </tr>\n",
       "    <tr>\n",
       "      <th>2017-11-23</th>\n",
       "      <td>True</td>\n",
       "    </tr>\n",
       "    <tr>\n",
       "      <th>2017-12-25</th>\n",
       "      <td>True</td>\n",
       "    </tr>\n",
       "    <tr>\n",
       "      <th>2018-01-01</th>\n",
       "      <td>True</td>\n",
       "    </tr>\n",
       "    <tr>\n",
       "      <th>2018-01-15</th>\n",
       "      <td>True</td>\n",
       "    </tr>\n",
       "    <tr>\n",
       "      <th>2018-02-19</th>\n",
       "      <td>True</td>\n",
       "    </tr>\n",
       "    <tr>\n",
       "      <th>2018-03-30</th>\n",
       "      <td>True</td>\n",
       "    </tr>\n",
       "    <tr>\n",
       "      <th>2018-05-28</th>\n",
       "      <td>True</td>\n",
       "    </tr>\n",
       "    <tr>\n",
       "      <th>2018-07-04</th>\n",
       "      <td>True</td>\n",
       "    </tr>\n",
       "    <tr>\n",
       "      <th>2018-09-03</th>\n",
       "      <td>True</td>\n",
       "    </tr>\n",
       "    <tr>\n",
       "      <th>2018-11-22</th>\n",
       "      <td>True</td>\n",
       "    </tr>\n",
       "    <tr>\n",
       "      <th>2018-12-05</th>\n",
       "      <td>True</td>\n",
       "    </tr>\n",
       "    <tr>\n",
       "      <th>2018-12-25</th>\n",
       "      <td>True</td>\n",
       "    </tr>\n",
       "    <tr>\n",
       "      <th>2019-01-01</th>\n",
       "      <td>True</td>\n",
       "    </tr>\n",
       "    <tr>\n",
       "      <th>2019-01-21</th>\n",
       "      <td>True</td>\n",
       "    </tr>\n",
       "    <tr>\n",
       "      <th>2019-02-18</th>\n",
       "      <td>True</td>\n",
       "    </tr>\n",
       "    <tr>\n",
       "      <th>2019-04-19</th>\n",
       "      <td>True</td>\n",
       "    </tr>\n",
       "    <tr>\n",
       "      <th>2019-05-27</th>\n",
       "      <td>True</td>\n",
       "    </tr>\n",
       "    <tr>\n",
       "      <th>2019-07-04</th>\n",
       "      <td>True</td>\n",
       "    </tr>\n",
       "    <tr>\n",
       "      <th>2019-09-02</th>\n",
       "      <td>True</td>\n",
       "    </tr>\n",
       "    <tr>\n",
       "      <th>2019-11-28</th>\n",
       "      <td>True</td>\n",
       "    </tr>\n",
       "    <tr>\n",
       "      <th>2019-12-25</th>\n",
       "      <td>True</td>\n",
       "    </tr>\n",
       "    <tr>\n",
       "      <th>2020-01-01</th>\n",
       "      <td>True</td>\n",
       "    </tr>\n",
       "    <tr>\n",
       "      <th>2020-01-20</th>\n",
       "      <td>True</td>\n",
       "    </tr>\n",
       "  </tbody>\n",
       "</table>\n",
       "</div>"
      ],
      "text/plain": [
       "            Close\n",
       "Date             \n",
       "2016-09-05   True\n",
       "2016-11-24   True\n",
       "2016-12-26   True\n",
       "2017-01-02   True\n",
       "2017-01-16   True\n",
       "2017-02-20   True\n",
       "2017-04-14   True\n",
       "2017-05-29   True\n",
       "2017-07-04   True\n",
       "2017-09-04   True\n",
       "2017-11-23   True\n",
       "2017-12-25   True\n",
       "2018-01-01   True\n",
       "2018-01-15   True\n",
       "2018-02-19   True\n",
       "2018-03-30   True\n",
       "2018-05-28   True\n",
       "2018-07-04   True\n",
       "2018-09-03   True\n",
       "2018-11-22   True\n",
       "2018-12-05   True\n",
       "2018-12-25   True\n",
       "2019-01-01   True\n",
       "2019-01-21   True\n",
       "2019-02-18   True\n",
       "2019-04-19   True\n",
       "2019-05-27   True\n",
       "2019-07-04   True\n",
       "2019-09-02   True\n",
       "2019-11-28   True\n",
       "2019-12-25   True\n",
       "2020-01-01   True\n",
       "2020-01-20   True"
      ]
     },
     "execution_count": 111,
     "metadata": {},
     "output_type": "execute_result"
    }
   ],
   "source": [
    "train_resample_B.loc[train_resample_B['Close'] == True]"
   ]
  },
  {
   "cell_type": "code",
   "execution_count": 165,
   "id": "64b40de8",
   "metadata": {
    "scrolled": true
   },
   "outputs": [
    {
     "data": {
      "text/plain": [
       "Close    0\n",
       "dtype: int64"
      ]
     },
     "execution_count": 165,
     "metadata": {},
     "output_type": "execute_result"
    }
   ],
   "source": [
    "train.isna().sum()"
   ]
  },
  {
   "cell_type": "code",
   "execution_count": 112,
   "id": "af42e773",
   "metadata": {},
   "outputs": [
    {
     "data": {
      "text/html": [
       "<div>\n",
       "<style scoped>\n",
       "    .dataframe tbody tr th:only-of-type {\n",
       "        vertical-align: middle;\n",
       "    }\n",
       "\n",
       "    .dataframe tbody tr th {\n",
       "        vertical-align: top;\n",
       "    }\n",
       "\n",
       "    .dataframe thead th {\n",
       "        text-align: right;\n",
       "    }\n",
       "</style>\n",
       "<table border=\"1\" class=\"dataframe\">\n",
       "  <thead>\n",
       "    <tr style=\"text-align: right;\">\n",
       "      <th></th>\n",
       "      <th>Close</th>\n",
       "    </tr>\n",
       "    <tr>\n",
       "      <th>Date</th>\n",
       "      <th></th>\n",
       "    </tr>\n",
       "  </thead>\n",
       "  <tbody>\n",
       "    <tr>\n",
       "      <th>2016-08-09</th>\n",
       "      <td>5225.479980</td>\n",
       "    </tr>\n",
       "    <tr>\n",
       "      <th>2016-08-10</th>\n",
       "      <td>5204.580078</td>\n",
       "    </tr>\n",
       "    <tr>\n",
       "      <th>2016-08-11</th>\n",
       "      <td>5228.399902</td>\n",
       "    </tr>\n",
       "    <tr>\n",
       "      <th>2016-08-12</th>\n",
       "      <td>5232.890137</td>\n",
       "    </tr>\n",
       "    <tr>\n",
       "      <th>2016-08-15</th>\n",
       "      <td>5262.020020</td>\n",
       "    </tr>\n",
       "    <tr>\n",
       "      <th>...</th>\n",
       "      <td>...</td>\n",
       "    </tr>\n",
       "    <tr>\n",
       "      <th>2020-02-03</th>\n",
       "      <td>9273.400391</td>\n",
       "    </tr>\n",
       "    <tr>\n",
       "      <th>2020-02-04</th>\n",
       "      <td>9467.969727</td>\n",
       "    </tr>\n",
       "    <tr>\n",
       "      <th>2020-02-05</th>\n",
       "      <td>9508.679688</td>\n",
       "    </tr>\n",
       "    <tr>\n",
       "      <th>2020-02-06</th>\n",
       "      <td>9572.150391</td>\n",
       "    </tr>\n",
       "    <tr>\n",
       "      <th>2020-02-07</th>\n",
       "      <td>9520.509766</td>\n",
       "    </tr>\n",
       "  </tbody>\n",
       "</table>\n",
       "<p>914 rows × 1 columns</p>\n",
       "</div>"
      ],
      "text/plain": [
       "                  Close\n",
       "Date                   \n",
       "2016-08-09  5225.479980\n",
       "2016-08-10  5204.580078\n",
       "2016-08-11  5228.399902\n",
       "2016-08-12  5232.890137\n",
       "2016-08-15  5262.020020\n",
       "...                 ...\n",
       "2020-02-03  9273.400391\n",
       "2020-02-04  9467.969727\n",
       "2020-02-05  9508.679688\n",
       "2020-02-06  9572.150391\n",
       "2020-02-07  9520.509766\n",
       "\n",
       "[914 rows x 1 columns]"
      ]
     },
     "execution_count": 112,
     "metadata": {},
     "output_type": "execute_result"
    }
   ],
   "source": [
    "res_train = train.resample('B').mean()\n",
    "res_train"
   ]
  },
  {
   "cell_type": "code",
   "execution_count": 113,
   "id": "b10b4ca4",
   "metadata": {},
   "outputs": [],
   "source": [
    "res_train.ffill(inplace=True)"
   ]
  },
  {
   "cell_type": "markdown",
   "id": "5b20ac42",
   "metadata": {},
   "source": [
    "# Testing"
   ]
  },
  {
   "cell_type": "code",
   "execution_count": 114,
   "id": "8fa7ff23",
   "metadata": {},
   "outputs": [
    {
     "data": {
      "image/png": "[encoded data removed]",
      "text/plain": [
       "<Figure size 864x720 with 1 Axes>"
      ]
     },
     "metadata": {
      "needs_background": "light"
     },
     "output_type": "display_data"
    }
   ],
   "source": [
    "fig, ax = plt.subplots(figsize=(12,10))\n",
    "ax.plot(res_train);"
   ]
  },
  {
   "cell_type": "code",
   "execution_count": 115,
   "id": "aa9a1e0e",
   "metadata": {},
   "outputs": [
    {
     "data": {
      "text/plain": [
       "Timestamp('2021-08-09 00:00:00')"
      ]
     },
     "execution_count": 115,
     "metadata": {},
     "output_type": "execute_result"
    }
   ],
   "source": [
    "test.index[-1]"
   ]
  },
  {
   "cell_type": "code",
   "execution_count": 116,
   "id": "4d13c0b6",
   "metadata": {},
   "outputs": [
    {
     "data": {
      "text/plain": [
       "Close    13\n",
       "dtype: int64"
      ]
     },
     "execution_count": 116,
     "metadata": {},
     "output_type": "execute_result"
    }
   ],
   "source": [
    "test[1:].resample('B').mean().isnull().sum()"
   ]
  },
  {
   "cell_type": "code",
   "execution_count": 117,
   "id": "52b859a5",
   "metadata": {
    "scrolled": true
   },
   "outputs": [
    {
     "data": {
      "text/plain": [
       "Timestamp('2020-02-10 00:00:00')"
      ]
     },
     "execution_count": 117,
     "metadata": {},
     "output_type": "execute_result"
    }
   ],
   "source": [
    "test.index[0]"
   ]
  },
  {
   "cell_type": "code",
   "execution_count": 118,
   "id": "f6ca7c5a",
   "metadata": {},
   "outputs": [
    {
     "data": {
      "text/plain": [
       "Timestamp('2020-02-07 00:00:00', freq='B')"
      ]
     },
     "execution_count": 118,
     "metadata": {},
     "output_type": "execute_result"
    }
   ],
   "source": [
    "train[1:].resample('B').sum().index[-1]"
   ]
  },
  {
   "cell_type": "code",
   "execution_count": 119,
   "id": "e09181e0",
   "metadata": {
    "scrolled": false
   },
   "outputs": [
    {
     "data": {
      "text/html": [
       "<div>\n",
       "<style scoped>\n",
       "    .dataframe tbody tr th:only-of-type {\n",
       "        vertical-align: middle;\n",
       "    }\n",
       "\n",
       "    .dataframe tbody tr th {\n",
       "        vertical-align: top;\n",
       "    }\n",
       "\n",
       "    .dataframe thead th {\n",
       "        text-align: right;\n",
       "    }\n",
       "</style>\n",
       "<table border=\"1\" class=\"dataframe\">\n",
       "  <thead>\n",
       "    <tr style=\"text-align: right;\">\n",
       "      <th></th>\n",
       "      <th>Close</th>\n",
       "    </tr>\n",
       "    <tr>\n",
       "      <th>Date</th>\n",
       "      <th></th>\n",
       "    </tr>\n",
       "  </thead>\n",
       "  <tbody>\n",
       "    <tr>\n",
       "      <th>2020-02-10</th>\n",
       "      <td>9628.389648</td>\n",
       "    </tr>\n",
       "    <tr>\n",
       "      <th>2020-02-11</th>\n",
       "      <td>9638.940430</td>\n",
       "    </tr>\n",
       "    <tr>\n",
       "      <th>2020-02-12</th>\n",
       "      <td>9725.959961</td>\n",
       "    </tr>\n",
       "    <tr>\n",
       "      <th>2020-02-13</th>\n",
       "      <td>9711.969727</td>\n",
       "    </tr>\n",
       "    <tr>\n",
       "      <th>2020-02-14</th>\n",
       "      <td>9731.179688</td>\n",
       "    </tr>\n",
       "    <tr>\n",
       "      <th>...</th>\n",
       "      <td>...</td>\n",
       "    </tr>\n",
       "    <tr>\n",
       "      <th>2021-08-03</th>\n",
       "      <td>14761.290039</td>\n",
       "    </tr>\n",
       "    <tr>\n",
       "      <th>2021-08-04</th>\n",
       "      <td>14780.530273</td>\n",
       "    </tr>\n",
       "    <tr>\n",
       "      <th>2021-08-05</th>\n",
       "      <td>14895.120117</td>\n",
       "    </tr>\n",
       "    <tr>\n",
       "      <th>2021-08-06</th>\n",
       "      <td>14835.759766</td>\n",
       "    </tr>\n",
       "    <tr>\n",
       "      <th>2021-08-09</th>\n",
       "      <td>14860.176758</td>\n",
       "    </tr>\n",
       "  </tbody>\n",
       "</table>\n",
       "<p>391 rows × 1 columns</p>\n",
       "</div>"
      ],
      "text/plain": [
       "                   Close\n",
       "Date                    \n",
       "2020-02-10   9628.389648\n",
       "2020-02-11   9638.940430\n",
       "2020-02-12   9725.959961\n",
       "2020-02-13   9711.969727\n",
       "2020-02-14   9731.179688\n",
       "...                  ...\n",
       "2021-08-03  14761.290039\n",
       "2021-08-04  14780.530273\n",
       "2021-08-05  14895.120117\n",
       "2021-08-06  14835.759766\n",
       "2021-08-09  14860.176758\n",
       "\n",
       "[391 rows x 1 columns]"
      ]
     },
     "execution_count": 119,
     "metadata": {},
     "output_type": "execute_result"
    }
   ],
   "source": [
    "res_test = test.resample('B').mean()\n",
    "res_test"
   ]
  },
  {
   "cell_type": "code",
   "execution_count": 63,
   "id": "76be8b22",
   "metadata": {},
   "outputs": [
    {
     "data": {
      "text/plain": [
       "Close    13\n",
       "dtype: int64"
      ]
     },
     "execution_count": 63,
     "metadata": {},
     "output_type": "execute_result"
    }
   ],
   "source": [
    "res_test.isna().sum()"
   ]
  },
  {
   "cell_type": "code",
   "execution_count": 129,
   "id": "ac6eaf6a",
   "metadata": {},
   "outputs": [],
   "source": [
    "res_test.ffill(inplace=True)"
   ]
  },
  {
   "cell_type": "code",
   "execution_count": 130,
   "id": "22e7967c",
   "metadata": {},
   "outputs": [
    {
     "data": {
      "text/plain": [
       "Timestamp('2020-02-07 00:00:00')"
      ]
     },
     "execution_count": 130,
     "metadata": {},
     "output_type": "execute_result"
    }
   ],
   "source": [
    "train.index[-1]"
   ]
  },
  {
   "cell_type": "code",
   "execution_count": 131,
   "id": "a84cdd0f",
   "metadata": {},
   "outputs": [
    {
     "data": {
      "text/plain": [
       "Timestamp('2020-02-10 00:00:00')"
      ]
     },
     "execution_count": 131,
     "metadata": {},
     "output_type": "execute_result"
    }
   ],
   "source": [
    "test.index[0]"
   ]
  },
  {
   "cell_type": "code",
   "execution_count": 132,
   "id": "e58ab07f",
   "metadata": {
    "scrolled": false
   },
   "outputs": [
    {
     "data": {
      "image/png": "[encoded data removed]",
      "text/plain": [
       "<Figure size 864x720 with 1 Axes>"
      ]
     },
     "metadata": {
      "needs_background": "light"
     },
     "output_type": "display_data"
    }
   ],
   "source": [
    "y_hat_test = aa_model.predict(start=pd.to_datetime('2020-02-07'), typ='levels')\n",
    "\n",
    "fig, ax = plt.subplots(figsize=(12, 10))\n",
    "ax.plot(y_hat_test, color='r')\n",
    "ax.plot(test, color='b');"
   ]
  },
  {
   "cell_type": "code",
   "execution_count": 133,
   "id": "e0689741",
   "metadata": {},
   "outputs": [
    {
     "data": {
      "text/plain": [
       "Close    0\n",
       "dtype: int64"
      ]
     },
     "execution_count": 133,
     "metadata": {},
     "output_type": "execute_result"
    }
   ],
   "source": [
    "res_test.isnull().sum()"
   ]
  },
  {
   "cell_type": "code",
   "execution_count": 138,
   "id": "6636359e",
   "metadata": {
    "scrolled": false
   },
   "outputs": [
    {
     "data": {
      "image/png": "[encoded data removed]",
      "text/plain": [
       "<Figure size 864x720 with 1 Axes>"
      ]
     },
     "metadata": {
      "needs_background": "light"
     },
     "output_type": "display_data"
    }
   ],
   "source": [
    "y_hat_rw_test = random_walk_model.predict(start=pd.to_datetime('2020-02-07'),typ='levels')\n",
    "fig, ax = plt.subplots(figsize=(12, 10))\n",
    "ax.plot(y_hat_rw_test, color='b')\n",
    "ax.plot(res_test, color='r');"
   ]
  },
  {
   "cell_type": "markdown",
   "id": "ce375062",
   "metadata": {},
   "source": [
    "GridSearch ARIMA Model, and create a SARIMAX model"
   ]
  },
  {
   "cell_type": "code",
   "execution_count": null,
   "id": "de8d0855",
   "metadata": {},
   "outputs": [],
   "source": []
  },
  {
   "cell_type": "code",
   "execution_count": null,
   "id": "74d3e2f2",
   "metadata": {},
   "outputs": [],
   "source": []
  },
  {
   "cell_type": "code",
   "execution_count": null,
   "id": "86ed7855",
   "metadata": {},
   "outputs": [],
   "source": []
  },
  {
   "cell_type": "code",
   "execution_count": null,
   "id": "8685fa98",
   "metadata": {},
   "outputs": [],
   "source": []
  },
  {
   "cell_type": "code",
   "execution_count": null,
   "id": "7488dbbb",
   "metadata": {},
   "outputs": [],
   "source": []
  },
  {
   "cell_type": "code",
   "execution_count": null,
   "id": "58c3760d",
   "metadata": {},
   "outputs": [],
   "source": []
  }
 ],
 "metadata": {
  "kernelspec": {
   "display_name": "learn-env",
   "language": "python",
   "name": "learn-env"
  },
  "language_info": {
   "codemirror_mode": {
    "name": "ipython",
    "version": 3
   },
   "file_extension": ".py",
   "mimetype": "text/x-python",
   "name": "python",
   "nbconvert_exporter": "python",
   "pygments_lexer": "ipython3",
   "version": "3.8.5"
  }
 },
 "nbformat": 4,
 "nbformat_minor": 5
}
